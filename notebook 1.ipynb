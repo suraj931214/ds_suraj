{
 "cells": [
  {
   "cell_type": "code",
   "execution_count": 1,
   "id": "7c09a8b3",
   "metadata": {},
   "outputs": [],
   "source": [
    "import numpy as np\n",
    "import pandas as pd\n",
    "import matplotlib.pyplot as plt\n",
    "import seaborn as sns\n",
    "import datetime as dt"
   ]
  },
  {
   "cell_type": "code",
   "execution_count": 3,
   "id": "4971722f",
   "metadata": {},
   "outputs": [],
   "source": [
    "fg_df=pd.read_csv('csv_files/fear_greed_index.csv')\n",
    "h_df=pd.read_csv('csv_files/historical_data.csv')"
   ]
  },
  {
   "cell_type": "code",
   "execution_count": 4,
   "id": "6e9e27a5",
   "metadata": {},
   "outputs": [
    {
     "data": {
      "text/html": [
       "<div>\n",
       "<style scoped>\n",
       "    .dataframe tbody tr th:only-of-type {\n",
       "        vertical-align: middle;\n",
       "    }\n",
       "\n",
       "    .dataframe tbody tr th {\n",
       "        vertical-align: top;\n",
       "    }\n",
       "\n",
       "    .dataframe thead th {\n",
       "        text-align: right;\n",
       "    }\n",
       "</style>\n",
       "<table border=\"1\" class=\"dataframe\">\n",
       "  <thead>\n",
       "    <tr style=\"text-align: right;\">\n",
       "      <th></th>\n",
       "      <th>timestamp</th>\n",
       "      <th>value</th>\n",
       "      <th>classification</th>\n",
       "      <th>date</th>\n",
       "    </tr>\n",
       "  </thead>\n",
       "  <tbody>\n",
       "    <tr>\n",
       "      <th>0</th>\n",
       "      <td>1517463000</td>\n",
       "      <td>30</td>\n",
       "      <td>Fear</td>\n",
       "      <td>2018-02-01</td>\n",
       "    </tr>\n",
       "    <tr>\n",
       "      <th>1</th>\n",
       "      <td>1517549400</td>\n",
       "      <td>15</td>\n",
       "      <td>Extreme Fear</td>\n",
       "      <td>2018-02-02</td>\n",
       "    </tr>\n",
       "    <tr>\n",
       "      <th>2</th>\n",
       "      <td>1517635800</td>\n",
       "      <td>40</td>\n",
       "      <td>Fear</td>\n",
       "      <td>2018-02-03</td>\n",
       "    </tr>\n",
       "    <tr>\n",
       "      <th>3</th>\n",
       "      <td>1517722200</td>\n",
       "      <td>24</td>\n",
       "      <td>Extreme Fear</td>\n",
       "      <td>2018-02-04</td>\n",
       "    </tr>\n",
       "    <tr>\n",
       "      <th>4</th>\n",
       "      <td>1517808600</td>\n",
       "      <td>11</td>\n",
       "      <td>Extreme Fear</td>\n",
       "      <td>2018-02-05</td>\n",
       "    </tr>\n",
       "  </tbody>\n",
       "</table>\n",
       "</div>"
      ],
      "text/plain": [
       "    timestamp  value classification        date\n",
       "0  1517463000     30           Fear  2018-02-01\n",
       "1  1517549400     15   Extreme Fear  2018-02-02\n",
       "2  1517635800     40           Fear  2018-02-03\n",
       "3  1517722200     24   Extreme Fear  2018-02-04\n",
       "4  1517808600     11   Extreme Fear  2018-02-05"
      ]
     },
     "execution_count": 4,
     "metadata": {},
     "output_type": "execute_result"
    }
   ],
   "source": [
    "fg_df.head()"
   ]
  },
  {
   "cell_type": "code",
   "execution_count": 5,
   "id": "802d0752",
   "metadata": {},
   "outputs": [
    {
     "data": {
      "text/plain": [
       "<Axes: xlabel='classification'>"
      ]
     },
     "execution_count": 5,
     "metadata": {},
     "output_type": "execute_result"
    },
    {
     "data": {
      "image/png": "[encoded data removed]",
      "text/plain": [
       "<Figure size 640x480 with 1 Axes>"
      ]
     },
     "metadata": {},
     "output_type": "display_data"
    }
   ],
   "source": [
    "fg_df['classification'].value_counts().plot()"
   ]
  },
  {
   "cell_type": "code",
   "execution_count": 6,
   "id": "e180884d",
   "metadata": {},
   "outputs": [
    {
     "data": {
      "text/html": [
       "<div>\n",
       "<style scoped>\n",
       "    .dataframe tbody tr th:only-of-type {\n",
       "        vertical-align: middle;\n",
       "    }\n",
       "\n",
       "    .dataframe tbody tr th {\n",
       "        vertical-align: top;\n",
       "    }\n",
       "\n",
       "    .dataframe thead th {\n",
       "        text-align: right;\n",
       "    }\n",
       "</style>\n",
       "<table border=\"1\" class=\"dataframe\">\n",
       "  <thead>\n",
       "    <tr style=\"text-align: right;\">\n",
       "      <th></th>\n",
       "      <th>Account</th>\n",
       "      <th>Coin</th>\n",
       "      <th>Execution Price</th>\n",
       "      <th>Size Tokens</th>\n",
       "      <th>Size USD</th>\n",
       "      <th>Side</th>\n",
       "      <th>Timestamp IST</th>\n",
       "      <th>Start Position</th>\n",
       "      <th>Direction</th>\n",
       "      <th>Closed PnL</th>\n",
       "      <th>Transaction Hash</th>\n",
       "      <th>Order ID</th>\n",
       "      <th>Crossed</th>\n",
       "      <th>Fee</th>\n",
       "      <th>Trade ID</th>\n",
       "      <th>Timestamp</th>\n",
       "    </tr>\n",
       "  </thead>\n",
       "  <tbody>\n",
       "    <tr>\n",
       "      <th>160381</th>\n",
       "      <td>0xbee1707d6b44d4d52bfe19e41f8a828645437aab</td>\n",
       "      <td>@107</td>\n",
       "      <td>25.220</td>\n",
       "      <td>0.71</td>\n",
       "      <td>17.91</td>\n",
       "      <td>SELL</td>\n",
       "      <td>19-12-2024 11:13</td>\n",
       "      <td>25345.3241</td>\n",
       "      <td>Sell</td>\n",
       "      <td>0.098876</td>\n",
       "      <td>0x00000000000000000000000000000000000000000000...</td>\n",
       "      <td>56529334243</td>\n",
       "      <td>False</td>\n",
       "      <td>0.000895</td>\n",
       "      <td>2.300000e+14</td>\n",
       "      <td>1.730000e+12</td>\n",
       "    </tr>\n",
       "    <tr>\n",
       "      <th>68720</th>\n",
       "      <td>0xbaaaf6571ab7d571043ff1e313a9609a10637864</td>\n",
       "      <td>HYPE</td>\n",
       "      <td>19.357</td>\n",
       "      <td>2.00</td>\n",
       "      <td>38.71</td>\n",
       "      <td>BUY</td>\n",
       "      <td>25-02-2025 07:24</td>\n",
       "      <td>241191.4300</td>\n",
       "      <td>Open Long</td>\n",
       "      <td>0.000000</td>\n",
       "      <td>0x4a9f3cadf500725fd87e041e692b5802028f00d7c86b...</td>\n",
       "      <td>74607648912</td>\n",
       "      <td>False</td>\n",
       "      <td>0.001857</td>\n",
       "      <td>7.010000e+13</td>\n",
       "      <td>1.740000e+12</td>\n",
       "    </tr>\n",
       "    <tr>\n",
       "      <th>62009</th>\n",
       "      <td>0x6d6a4b953f202f8df5bed40692e7fd865318264a</td>\n",
       "      <td>TRUMP</td>\n",
       "      <td>13.071</td>\n",
       "      <td>75.00</td>\n",
       "      <td>980.32</td>\n",
       "      <td>SELL</td>\n",
       "      <td>24-04-2025 00:40</td>\n",
       "      <td>0.0000</td>\n",
       "      <td>Open Short</td>\n",
       "      <td>0.000000</td>\n",
       "      <td>0xe1445936265b4198dad404221d171101ac00c58cc72c...</td>\n",
       "      <td>88400774910</td>\n",
       "      <td>True</td>\n",
       "      <td>0.329388</td>\n",
       "      <td>6.900000e+14</td>\n",
       "      <td>1.750000e+12</td>\n",
       "    </tr>\n",
       "    <tr>\n",
       "      <th>94240</th>\n",
       "      <td>0xa0feb3725a9335f49874d7cd8eaad6be45b27416</td>\n",
       "      <td>HYPE</td>\n",
       "      <td>26.300</td>\n",
       "      <td>3.19</td>\n",
       "      <td>83.90</td>\n",
       "      <td>SELL</td>\n",
       "      <td>16-02-2025 22:14</td>\n",
       "      <td>-83.8200</td>\n",
       "      <td>Open Short</td>\n",
       "      <td>0.000000</td>\n",
       "      <td>0x00000000000000000000000000000000000000000000...</td>\n",
       "      <td>72710788464</td>\n",
       "      <td>False</td>\n",
       "      <td>0.004194</td>\n",
       "      <td>1.060000e+15</td>\n",
       "      <td>1.740000e+12</td>\n",
       "    </tr>\n",
       "    <tr>\n",
       "      <th>197902</th>\n",
       "      <td>0x4acb90e786d897ecffb614dc822eb231b4ffb9f4</td>\n",
       "      <td>HYPE</td>\n",
       "      <td>15.220</td>\n",
       "      <td>253.93</td>\n",
       "      <td>3864.81</td>\n",
       "      <td>SELL</td>\n",
       "      <td>20-03-2025 00:44</td>\n",
       "      <td>19826.3100</td>\n",
       "      <td>Close Long</td>\n",
       "      <td>48.830739</td>\n",
       "      <td>0x92c241bf6e77ee830cea041fe0199901940057f2f3c7...</td>\n",
       "      <td>80800628974</td>\n",
       "      <td>False</td>\n",
       "      <td>0.386481</td>\n",
       "      <td>1.630000e+14</td>\n",
       "      <td>1.740000e+12</td>\n",
       "    </tr>\n",
       "  </tbody>\n",
       "</table>\n",
       "</div>"
      ],
      "text/plain": [
       "                                           Account   Coin  Execution Price  \\\n",
       "160381  0xbee1707d6b44d4d52bfe19e41f8a828645437aab   @107           25.220   \n",
       "68720   0xbaaaf6571ab7d571043ff1e313a9609a10637864   HYPE           19.357   \n",
       "62009   0x6d6a4b953f202f8df5bed40692e7fd865318264a  TRUMP           13.071   \n",
       "94240   0xa0feb3725a9335f49874d7cd8eaad6be45b27416   HYPE           26.300   \n",
       "197902  0x4acb90e786d897ecffb614dc822eb231b4ffb9f4   HYPE           15.220   \n",
       "\n",
       "        Size Tokens  Size USD  Side     Timestamp IST  Start Position  \\\n",
       "160381         0.71     17.91  SELL  19-12-2024 11:13      25345.3241   \n",
       "68720          2.00     38.71   BUY  25-02-2025 07:24     241191.4300   \n",
       "62009         75.00    980.32  SELL  24-04-2025 00:40          0.0000   \n",
       "94240          3.19     83.90  SELL  16-02-2025 22:14        -83.8200   \n",
       "197902       253.93   3864.81  SELL  20-03-2025 00:44      19826.3100   \n",
       "\n",
       "         Direction  Closed PnL  \\\n",
       "160381        Sell    0.098876   \n",
       "68720    Open Long    0.000000   \n",
       "62009   Open Short    0.000000   \n",
       "94240   Open Short    0.000000   \n",
       "197902  Close Long   48.830739   \n",
       "\n",
       "                                         Transaction Hash     Order ID  \\\n",
       "160381  0x00000000000000000000000000000000000000000000...  56529334243   \n",
       "68720   0x4a9f3cadf500725fd87e041e692b5802028f00d7c86b...  74607648912   \n",
       "62009   0xe1445936265b4198dad404221d171101ac00c58cc72c...  88400774910   \n",
       "94240   0x00000000000000000000000000000000000000000000...  72710788464   \n",
       "197902  0x92c241bf6e77ee830cea041fe0199901940057f2f3c7...  80800628974   \n",
       "\n",
       "        Crossed       Fee      Trade ID     Timestamp  \n",
       "160381    False  0.000895  2.300000e+14  1.730000e+12  \n",
       "68720     False  0.001857  7.010000e+13  1.740000e+12  \n",
       "62009      True  0.329388  6.900000e+14  1.750000e+12  \n",
       "94240     False  0.004194  1.060000e+15  1.740000e+12  \n",
       "197902    False  0.386481  1.630000e+14  1.740000e+12  "
      ]
     },
     "execution_count": 6,
     "metadata": {},
     "output_type": "execute_result"
    }
   ],
   "source": [
    "h_df.sample(5)"
   ]
  },
  {
   "cell_type": "markdown",
   "id": "276c8b9f",
   "metadata": {},
   "source": [
    "Assignment Overview\n",
    "\n",
    "You will have to work with two primary datasets:\n",
    " \n",
    "Your objective is to explore the relationship between trader performance and market \n",
    "sentiment, uncover hidden patterns, and deliver insights that can drive smarter trading \n",
    "strategies.\n"
   ]
  },
  {
   "cell_type": "code",
   "execution_count": 7,
   "id": "632727ae",
   "metadata": {},
   "outputs": [
    {
     "data": {
      "text/plain": [
       "Index(['Account', 'Coin', 'Execution Price', 'Size Tokens', 'Size USD', 'Side',\n",
       "       'Timestamp IST', 'Start Position', 'Direction', 'Closed PnL',\n",
       "       'Transaction Hash', 'Order ID', 'Crossed', 'Fee', 'Trade ID',\n",
       "       'Timestamp'],\n",
       "      dtype='object')"
      ]
     },
     "execution_count": 7,
     "metadata": {},
     "output_type": "execute_result"
    }
   ],
   "source": [
    "h_df.columns"
   ]
  },
  {
   "cell_type": "code",
   "execution_count": 8,
   "id": "ad1fc7bc",
   "metadata": {
    "scrolled": false
   },
   "outputs": [
    {
     "name": "stdout",
     "output_type": "stream",
     "text": [
      "<class 'pandas.core.frame.DataFrame'>\n",
      "RangeIndex: 211224 entries, 0 to 211223\n",
      "Data columns (total 16 columns):\n",
      " #   Column            Non-Null Count   Dtype  \n",
      "---  ------            --------------   -----  \n",
      " 0   Account           211224 non-null  object \n",
      " 1   Coin              211224 non-null  object \n",
      " 2   Execution Price   211224 non-null  float64\n",
      " 3   Size Tokens       211224 non-null  float64\n",
      " 4   Size USD          211224 non-null  float64\n",
      " 5   Side              211224 non-null  object \n",
      " 6   Timestamp IST     211224 non-null  object \n",
      " 7   Start Position    211224 non-null  float64\n",
      " 8   Direction         211224 non-null  object \n",
      " 9   Closed PnL        211224 non-null  float64\n",
      " 10  Transaction Hash  211224 non-null  object \n",
      " 11  Order ID          211224 non-null  int64  \n",
      " 12  Crossed           211224 non-null  bool   \n",
      " 13  Fee               211224 non-null  float64\n",
      " 14  Trade ID          211224 non-null  float64\n",
      " 15  Timestamp         211224 non-null  float64\n",
      "dtypes: bool(1), float64(8), int64(1), object(6)\n",
      "memory usage: 24.4+ MB\n",
      "<class 'pandas.core.frame.DataFrame'>\n",
      "RangeIndex: 2644 entries, 0 to 2643\n",
      "Data columns (total 4 columns):\n",
      " #   Column          Non-Null Count  Dtype \n",
      "---  ------          --------------  ----- \n",
      " 0   timestamp       2644 non-null   int64 \n",
      " 1   value           2644 non-null   int64 \n",
      " 2   classification  2644 non-null   object\n",
      " 3   date            2644 non-null   object\n",
      "dtypes: int64(2), object(2)\n",
      "memory usage: 82.8+ KB\n"
     ]
    },
    {
     "data": {
      "text/plain": [
       "(None, None)"
      ]
     },
     "execution_count": 8,
     "metadata": {},
     "output_type": "execute_result"
    }
   ],
   "source": [
    "h_df.info(),fg_df.info()"
   ]
  },
  {
   "cell_type": "code",
   "execution_count": 9,
   "id": "e465f081",
   "metadata": {},
   "outputs": [],
   "source": [
    "h_df['Timestamp IST'] = pd.to_datetime(h_df['Timestamp IST'], dayfirst=True)"
   ]
  },
  {
   "cell_type": "code",
   "execution_count": 10,
   "id": "a0c295c7",
   "metadata": {},
   "outputs": [],
   "source": [
    "fg_df['date']= pd.to_datetime(fg_df['date'])\n"
   ]
  },
  {
   "cell_type": "code",
   "execution_count": 11,
   "id": "54df72e6",
   "metadata": {},
   "outputs": [],
   "source": [
    "h_df['trade_date']=h_df['Timestamp IST'].dt.date\n",
    "h_df['trade_date']= pd.to_datetime(h_df['trade_date'])"
   ]
  },
  {
   "cell_type": "code",
   "execution_count": 12,
   "id": "a5adb735",
   "metadata": {},
   "outputs": [
    {
     "data": {
      "text/plain": [
       "((211224, 17), (2644, 4))"
      ]
     },
     "execution_count": 12,
     "metadata": {},
     "output_type": "execute_result"
    }
   ],
   "source": [
    "h_df.shape,fg_df.shape"
   ]
  },
  {
   "cell_type": "code",
   "execution_count": 13,
   "id": "7aaa2484",
   "metadata": {},
   "outputs": [
    {
     "data": {
      "text/plain": [
       "(2644, 480)"
      ]
     },
     "execution_count": 13,
     "metadata": {},
     "output_type": "execute_result"
    }
   ],
   "source": [
    "fg_df['date'].nunique(),h_df['trade_date'].nunique()"
   ]
  },
  {
   "cell_type": "code",
   "execution_count": 14,
   "id": "6c148b61",
   "metadata": {},
   "outputs": [],
   "source": [
    "# merging both table\n",
    "merge_df = pd.merge(\n",
    "    h_df,\n",
    "    fg_df[['date','classification']],\n",
    "    left_on = 'trade_date',\n",
    "    right_on = 'date',\n",
    "    how='left'\n",
    ")"
   ]
  },
  {
   "cell_type": "code",
   "execution_count": 15,
   "id": "baf0414b",
   "metadata": {},
   "outputs": [
    {
     "data": {
      "text/html": [
       "<div>\n",
       "<style scoped>\n",
       "    .dataframe tbody tr th:only-of-type {\n",
       "        vertical-align: middle;\n",
       "    }\n",
       "\n",
       "    .dataframe tbody tr th {\n",
       "        vertical-align: top;\n",
       "    }\n",
       "\n",
       "    .dataframe thead th {\n",
       "        text-align: right;\n",
       "    }\n",
       "</style>\n",
       "<table border=\"1\" class=\"dataframe\">\n",
       "  <thead>\n",
       "    <tr style=\"text-align: right;\">\n",
       "      <th></th>\n",
       "      <th>Account</th>\n",
       "      <th>Coin</th>\n",
       "      <th>Execution Price</th>\n",
       "      <th>Size Tokens</th>\n",
       "      <th>Size USD</th>\n",
       "      <th>Side</th>\n",
       "      <th>Timestamp IST</th>\n",
       "      <th>Start Position</th>\n",
       "      <th>Direction</th>\n",
       "      <th>Closed PnL</th>\n",
       "      <th>Transaction Hash</th>\n",
       "      <th>Order ID</th>\n",
       "      <th>Crossed</th>\n",
       "      <th>Fee</th>\n",
       "      <th>Trade ID</th>\n",
       "      <th>Timestamp</th>\n",
       "      <th>trade_date</th>\n",
       "      <th>date</th>\n",
       "      <th>classification</th>\n",
       "    </tr>\n",
       "  </thead>\n",
       "  <tbody>\n",
       "    <tr>\n",
       "      <th>0</th>\n",
       "      <td>0xae5eacaf9c6b9111fd53034a602c192a04e082ed</td>\n",
       "      <td>@107</td>\n",
       "      <td>7.9769</td>\n",
       "      <td>986.87</td>\n",
       "      <td>7872.16</td>\n",
       "      <td>BUY</td>\n",
       "      <td>2024-12-02 22:50:00</td>\n",
       "      <td>0.000000</td>\n",
       "      <td>Buy</td>\n",
       "      <td>0.0</td>\n",
       "      <td>0xec09451986a1874e3a980418412fcd0201f500c95bac...</td>\n",
       "      <td>52017706630</td>\n",
       "      <td>True</td>\n",
       "      <td>0.345404</td>\n",
       "      <td>8.950000e+14</td>\n",
       "      <td>1.730000e+12</td>\n",
       "      <td>2024-12-02</td>\n",
       "      <td>2024-12-02</td>\n",
       "      <td>Extreme Greed</td>\n",
       "    </tr>\n",
       "    <tr>\n",
       "      <th>1</th>\n",
       "      <td>0xae5eacaf9c6b9111fd53034a602c192a04e082ed</td>\n",
       "      <td>@107</td>\n",
       "      <td>7.9800</td>\n",
       "      <td>16.00</td>\n",
       "      <td>127.68</td>\n",
       "      <td>BUY</td>\n",
       "      <td>2024-12-02 22:50:00</td>\n",
       "      <td>986.524596</td>\n",
       "      <td>Buy</td>\n",
       "      <td>0.0</td>\n",
       "      <td>0xec09451986a1874e3a980418412fcd0201f500c95bac...</td>\n",
       "      <td>52017706630</td>\n",
       "      <td>True</td>\n",
       "      <td>0.005600</td>\n",
       "      <td>4.430000e+14</td>\n",
       "      <td>1.730000e+12</td>\n",
       "      <td>2024-12-02</td>\n",
       "      <td>2024-12-02</td>\n",
       "      <td>Extreme Greed</td>\n",
       "    </tr>\n",
       "    <tr>\n",
       "      <th>2</th>\n",
       "      <td>0xae5eacaf9c6b9111fd53034a602c192a04e082ed</td>\n",
       "      <td>@107</td>\n",
       "      <td>7.9855</td>\n",
       "      <td>144.09</td>\n",
       "      <td>1150.63</td>\n",
       "      <td>BUY</td>\n",
       "      <td>2024-12-02 22:50:00</td>\n",
       "      <td>1002.518996</td>\n",
       "      <td>Buy</td>\n",
       "      <td>0.0</td>\n",
       "      <td>0xec09451986a1874e3a980418412fcd0201f500c95bac...</td>\n",
       "      <td>52017706630</td>\n",
       "      <td>True</td>\n",
       "      <td>0.050431</td>\n",
       "      <td>6.600000e+14</td>\n",
       "      <td>1.730000e+12</td>\n",
       "      <td>2024-12-02</td>\n",
       "      <td>2024-12-02</td>\n",
       "      <td>Extreme Greed</td>\n",
       "    </tr>\n",
       "    <tr>\n",
       "      <th>3</th>\n",
       "      <td>0xae5eacaf9c6b9111fd53034a602c192a04e082ed</td>\n",
       "      <td>@107</td>\n",
       "      <td>7.9874</td>\n",
       "      <td>142.98</td>\n",
       "      <td>1142.04</td>\n",
       "      <td>BUY</td>\n",
       "      <td>2024-12-02 22:50:00</td>\n",
       "      <td>1146.558564</td>\n",
       "      <td>Buy</td>\n",
       "      <td>0.0</td>\n",
       "      <td>0xec09451986a1874e3a980418412fcd0201f500c95bac...</td>\n",
       "      <td>52017706630</td>\n",
       "      <td>True</td>\n",
       "      <td>0.050043</td>\n",
       "      <td>1.080000e+15</td>\n",
       "      <td>1.730000e+12</td>\n",
       "      <td>2024-12-02</td>\n",
       "      <td>2024-12-02</td>\n",
       "      <td>Extreme Greed</td>\n",
       "    </tr>\n",
       "    <tr>\n",
       "      <th>4</th>\n",
       "      <td>0xae5eacaf9c6b9111fd53034a602c192a04e082ed</td>\n",
       "      <td>@107</td>\n",
       "      <td>7.9894</td>\n",
       "      <td>8.73</td>\n",
       "      <td>69.75</td>\n",
       "      <td>BUY</td>\n",
       "      <td>2024-12-02 22:50:00</td>\n",
       "      <td>1289.488521</td>\n",
       "      <td>Buy</td>\n",
       "      <td>0.0</td>\n",
       "      <td>0xec09451986a1874e3a980418412fcd0201f500c95bac...</td>\n",
       "      <td>52017706630</td>\n",
       "      <td>True</td>\n",
       "      <td>0.003055</td>\n",
       "      <td>1.050000e+15</td>\n",
       "      <td>1.730000e+12</td>\n",
       "      <td>2024-12-02</td>\n",
       "      <td>2024-12-02</td>\n",
       "      <td>Extreme Greed</td>\n",
       "    </tr>\n",
       "  </tbody>\n",
       "</table>\n",
       "</div>"
      ],
      "text/plain": [
       "                                      Account  Coin  Execution Price  \\\n",
       "0  0xae5eacaf9c6b9111fd53034a602c192a04e082ed  @107           7.9769   \n",
       "1  0xae5eacaf9c6b9111fd53034a602c192a04e082ed  @107           7.9800   \n",
       "2  0xae5eacaf9c6b9111fd53034a602c192a04e082ed  @107           7.9855   \n",
       "3  0xae5eacaf9c6b9111fd53034a602c192a04e082ed  @107           7.9874   \n",
       "4  0xae5eacaf9c6b9111fd53034a602c192a04e082ed  @107           7.9894   \n",
       "\n",
       "   Size Tokens  Size USD Side       Timestamp IST  Start Position Direction  \\\n",
       "0       986.87   7872.16  BUY 2024-12-02 22:50:00        0.000000       Buy   \n",
       "1        16.00    127.68  BUY 2024-12-02 22:50:00      986.524596       Buy   \n",
       "2       144.09   1150.63  BUY 2024-12-02 22:50:00     1002.518996       Buy   \n",
       "3       142.98   1142.04  BUY 2024-12-02 22:50:00     1146.558564       Buy   \n",
       "4         8.73     69.75  BUY 2024-12-02 22:50:00     1289.488521       Buy   \n",
       "\n",
       "   Closed PnL                                   Transaction Hash     Order ID  \\\n",
       "0         0.0  0xec09451986a1874e3a980418412fcd0201f500c95bac...  52017706630   \n",
       "1         0.0  0xec09451986a1874e3a980418412fcd0201f500c95bac...  52017706630   \n",
       "2         0.0  0xec09451986a1874e3a980418412fcd0201f500c95bac...  52017706630   \n",
       "3         0.0  0xec09451986a1874e3a980418412fcd0201f500c95bac...  52017706630   \n",
       "4         0.0  0xec09451986a1874e3a980418412fcd0201f500c95bac...  52017706630   \n",
       "\n",
       "   Crossed       Fee      Trade ID     Timestamp trade_date       date  \\\n",
       "0     True  0.345404  8.950000e+14  1.730000e+12 2024-12-02 2024-12-02   \n",
       "1     True  0.005600  4.430000e+14  1.730000e+12 2024-12-02 2024-12-02   \n",
       "2     True  0.050431  6.600000e+14  1.730000e+12 2024-12-02 2024-12-02   \n",
       "3     True  0.050043  1.080000e+15  1.730000e+12 2024-12-02 2024-12-02   \n",
       "4     True  0.003055  1.050000e+15  1.730000e+12 2024-12-02 2024-12-02   \n",
       "\n",
       "  classification  \n",
       "0  Extreme Greed  \n",
       "1  Extreme Greed  \n",
       "2  Extreme Greed  \n",
       "3  Extreme Greed  \n",
       "4  Extreme Greed  "
      ]
     },
     "execution_count": 15,
     "metadata": {},
     "output_type": "execute_result"
    }
   ],
   "source": [
    "merge_df.head()"
   ]
  },
  {
   "cell_type": "code",
   "execution_count": 16,
   "id": "894d9961",
   "metadata": {},
   "outputs": [
    {
     "data": {
      "text/plain": [
       "classification\n",
       "Fear             61837\n",
       "Greed            50303\n",
       "Extreme Greed    39992\n",
       "Neutral          37686\n",
       "Extreme Fear     21400\n",
       "Name: count, dtype: int64"
      ]
     },
     "execution_count": 16,
     "metadata": {},
     "output_type": "execute_result"
    }
   ],
   "source": [
    "merge_df['classification'].value_counts()"
   ]
  },
  {
   "cell_type": "code",
   "execution_count": 17,
   "id": "b43178db",
   "metadata": {},
   "outputs": [
    {
     "data": {
      "text/html": [
       "<div>\n",
       "<style scoped>\n",
       "    .dataframe tbody tr th:only-of-type {\n",
       "        vertical-align: middle;\n",
       "    }\n",
       "\n",
       "    .dataframe tbody tr th {\n",
       "        vertical-align: top;\n",
       "    }\n",
       "\n",
       "    .dataframe thead th {\n",
       "        text-align: right;\n",
       "    }\n",
       "</style>\n",
       "<table border=\"1\" class=\"dataframe\">\n",
       "  <thead>\n",
       "    <tr style=\"text-align: right;\">\n",
       "      <th></th>\n",
       "      <th>Account</th>\n",
       "      <th>Coin</th>\n",
       "      <th>Execution Price</th>\n",
       "      <th>Size Tokens</th>\n",
       "      <th>Size USD</th>\n",
       "      <th>Side</th>\n",
       "      <th>Timestamp IST</th>\n",
       "      <th>Start Position</th>\n",
       "      <th>Direction</th>\n",
       "      <th>Closed PnL</th>\n",
       "      <th>Transaction Hash</th>\n",
       "      <th>Order ID</th>\n",
       "      <th>Crossed</th>\n",
       "      <th>Fee</th>\n",
       "      <th>Trade ID</th>\n",
       "      <th>Timestamp</th>\n",
       "      <th>trade_date</th>\n",
       "      <th>date</th>\n",
       "      <th>classification</th>\n",
       "    </tr>\n",
       "  </thead>\n",
       "  <tbody>\n",
       "    <tr>\n",
       "      <th>727</th>\n",
       "      <td>0x72c6a4624e1dffa724e6d00d64ceae698af892a0</td>\n",
       "      <td>EIGEN</td>\n",
       "      <td>2.8330</td>\n",
       "      <td>10000.00</td>\n",
       "      <td>28330.00</td>\n",
       "      <td>BUY</td>\n",
       "      <td>2024-10-26 04:44:00</td>\n",
       "      <td>-32797.51</td>\n",
       "      <td>Close Short</td>\n",
       "      <td>11655.000000</td>\n",
       "      <td>0x4da9426d2bf6ec027d8404152f9bad02010700c745eb...</td>\n",
       "      <td>40671411386</td>\n",
       "      <td>False</td>\n",
       "      <td>2.719680</td>\n",
       "      <td>8.350000e+13</td>\n",
       "      <td>1.730000e+12</td>\n",
       "      <td>2024-10-26</td>\n",
       "      <td>NaT</td>\n",
       "      <td>NaN</td>\n",
       "    </tr>\n",
       "    <tr>\n",
       "      <th>728</th>\n",
       "      <td>0x72c6a4624e1dffa724e6d00d64ceae698af892a0</td>\n",
       "      <td>EIGEN</td>\n",
       "      <td>2.7110</td>\n",
       "      <td>10797.51</td>\n",
       "      <td>29272.05</td>\n",
       "      <td>BUY</td>\n",
       "      <td>2024-10-26 04:52:00</td>\n",
       "      <td>-22797.51</td>\n",
       "      <td>Close Short</td>\n",
       "      <td>13901.794130</td>\n",
       "      <td>0x66588e180b942ff0e4d104152fb6f20000ac4ae48a39...</td>\n",
       "      <td>40671438761</td>\n",
       "      <td>False</td>\n",
       "      <td>2.810115</td>\n",
       "      <td>3.230000e+14</td>\n",
       "      <td>1.730000e+12</td>\n",
       "      <td>2024-10-26</td>\n",
       "      <td>NaT</td>\n",
       "      <td>NaN</td>\n",
       "    </tr>\n",
       "    <tr>\n",
       "      <th>729</th>\n",
       "      <td>0x72c6a4624e1dffa724e6d00d64ceae698af892a0</td>\n",
       "      <td>EIGEN</td>\n",
       "      <td>2.5889</td>\n",
       "      <td>6908.33</td>\n",
       "      <td>17884.98</td>\n",
       "      <td>BUY</td>\n",
       "      <td>2024-10-26 04:52:00</td>\n",
       "      <td>-12000.00</td>\n",
       "      <td>Close Short</td>\n",
       "      <td>9737.981968</td>\n",
       "      <td>0x66588e180b942ff0e4d104152fb6f20000ac4ae48a39...</td>\n",
       "      <td>40671466136</td>\n",
       "      <td>False</td>\n",
       "      <td>1.716957</td>\n",
       "      <td>1.070000e+15</td>\n",
       "      <td>1.730000e+12</td>\n",
       "      <td>2024-10-26</td>\n",
       "      <td>NaT</td>\n",
       "      <td>NaN</td>\n",
       "    </tr>\n",
       "    <tr>\n",
       "      <th>730</th>\n",
       "      <td>0x72c6a4624e1dffa724e6d00d64ceae698af892a0</td>\n",
       "      <td>EIGEN</td>\n",
       "      <td>2.5889</td>\n",
       "      <td>529.39</td>\n",
       "      <td>1370.54</td>\n",
       "      <td>BUY</td>\n",
       "      <td>2024-10-26 04:52:00</td>\n",
       "      <td>-5091.67</td>\n",
       "      <td>Close Short</td>\n",
       "      <td>746.228144</td>\n",
       "      <td>0x66588e180b942ff0e4d104152fb6f20000ac4ae48a39...</td>\n",
       "      <td>40671466136</td>\n",
       "      <td>False</td>\n",
       "      <td>0.131570</td>\n",
       "      <td>8.770000e+14</td>\n",
       "      <td>1.730000e+12</td>\n",
       "      <td>2024-10-26</td>\n",
       "      <td>NaT</td>\n",
       "      <td>NaN</td>\n",
       "    </tr>\n",
       "    <tr>\n",
       "      <th>731</th>\n",
       "      <td>0x72c6a4624e1dffa724e6d00d64ceae698af892a0</td>\n",
       "      <td>EIGEN</td>\n",
       "      <td>2.5889</td>\n",
       "      <td>38.65</td>\n",
       "      <td>100.06</td>\n",
       "      <td>BUY</td>\n",
       "      <td>2024-10-26 04:52:00</td>\n",
       "      <td>-4562.28</td>\n",
       "      <td>Close Short</td>\n",
       "      <td>54.481040</td>\n",
       "      <td>0x66588e180b942ff0e4d104152fb6f20000ac4ae48a39...</td>\n",
       "      <td>40671466136</td>\n",
       "      <td>False</td>\n",
       "      <td>0.009605</td>\n",
       "      <td>9.820000e+14</td>\n",
       "      <td>1.730000e+12</td>\n",
       "      <td>2024-10-26</td>\n",
       "      <td>NaT</td>\n",
       "      <td>NaN</td>\n",
       "    </tr>\n",
       "    <tr>\n",
       "      <th>732</th>\n",
       "      <td>0x72c6a4624e1dffa724e6d00d64ceae698af892a0</td>\n",
       "      <td>EIGEN</td>\n",
       "      <td>2.5889</td>\n",
       "      <td>4523.63</td>\n",
       "      <td>11711.23</td>\n",
       "      <td>BUY</td>\n",
       "      <td>2024-10-26 04:53:00</td>\n",
       "      <td>-4523.63</td>\n",
       "      <td>Close Short</td>\n",
       "      <td>6376.508848</td>\n",
       "      <td>0x39ce7efcc1773fd0eec704152fbcb4010100c8beadd4...</td>\n",
       "      <td>40671466136</td>\n",
       "      <td>False</td>\n",
       "      <td>1.124277</td>\n",
       "      <td>9.360000e+14</td>\n",
       "      <td>1.730000e+12</td>\n",
       "      <td>2024-10-26</td>\n",
       "      <td>NaT</td>\n",
       "      <td>NaN</td>\n",
       "    </tr>\n",
       "  </tbody>\n",
       "</table>\n",
       "</div>"
      ],
      "text/plain": [
       "                                        Account   Coin  Execution Price  \\\n",
       "727  0x72c6a4624e1dffa724e6d00d64ceae698af892a0  EIGEN           2.8330   \n",
       "728  0x72c6a4624e1dffa724e6d00d64ceae698af892a0  EIGEN           2.7110   \n",
       "729  0x72c6a4624e1dffa724e6d00d64ceae698af892a0  EIGEN           2.5889   \n",
       "730  0x72c6a4624e1dffa724e6d00d64ceae698af892a0  EIGEN           2.5889   \n",
       "731  0x72c6a4624e1dffa724e6d00d64ceae698af892a0  EIGEN           2.5889   \n",
       "732  0x72c6a4624e1dffa724e6d00d64ceae698af892a0  EIGEN           2.5889   \n",
       "\n",
       "     Size Tokens  Size USD Side       Timestamp IST  Start Position  \\\n",
       "727     10000.00  28330.00  BUY 2024-10-26 04:44:00       -32797.51   \n",
       "728     10797.51  29272.05  BUY 2024-10-26 04:52:00       -22797.51   \n",
       "729      6908.33  17884.98  BUY 2024-10-26 04:52:00       -12000.00   \n",
       "730       529.39   1370.54  BUY 2024-10-26 04:52:00        -5091.67   \n",
       "731        38.65    100.06  BUY 2024-10-26 04:52:00        -4562.28   \n",
       "732      4523.63  11711.23  BUY 2024-10-26 04:53:00        -4523.63   \n",
       "\n",
       "       Direction    Closed PnL  \\\n",
       "727  Close Short  11655.000000   \n",
       "728  Close Short  13901.794130   \n",
       "729  Close Short   9737.981968   \n",
       "730  Close Short    746.228144   \n",
       "731  Close Short     54.481040   \n",
       "732  Close Short   6376.508848   \n",
       "\n",
       "                                      Transaction Hash     Order ID  Crossed  \\\n",
       "727  0x4da9426d2bf6ec027d8404152f9bad02010700c745eb...  40671411386    False   \n",
       "728  0x66588e180b942ff0e4d104152fb6f20000ac4ae48a39...  40671438761    False   \n",
       "729  0x66588e180b942ff0e4d104152fb6f20000ac4ae48a39...  40671466136    False   \n",
       "730  0x66588e180b942ff0e4d104152fb6f20000ac4ae48a39...  40671466136    False   \n",
       "731  0x66588e180b942ff0e4d104152fb6f20000ac4ae48a39...  40671466136    False   \n",
       "732  0x39ce7efcc1773fd0eec704152fbcb4010100c8beadd4...  40671466136    False   \n",
       "\n",
       "          Fee      Trade ID     Timestamp trade_date date classification  \n",
       "727  2.719680  8.350000e+13  1.730000e+12 2024-10-26  NaT            NaN  \n",
       "728  2.810115  3.230000e+14  1.730000e+12 2024-10-26  NaT            NaN  \n",
       "729  1.716957  1.070000e+15  1.730000e+12 2024-10-26  NaT            NaN  \n",
       "730  0.131570  8.770000e+14  1.730000e+12 2024-10-26  NaT            NaN  \n",
       "731  0.009605  9.820000e+14  1.730000e+12 2024-10-26  NaT            NaN  \n",
       "732  1.124277  9.360000e+14  1.730000e+12 2024-10-26  NaT            NaN  "
      ]
     },
     "execution_count": 17,
     "metadata": {},
     "output_type": "execute_result"
    }
   ],
   "source": [
    " merge_df[merge_df['classification'].isna() == True]"
   ]
  },
  {
   "cell_type": "code",
   "execution_count": 18,
   "id": "f7035bbb",
   "metadata": {},
   "outputs": [],
   "source": [
    "merge_df.dropna(inplace=True) # dropped nan value "
   ]
  },
  {
   "cell_type": "code",
   "execution_count": 20,
   "id": "cfd2a86e",
   "metadata": {},
   "outputs": [
    {
     "data": {
      "text/html": [
       "<div>\n",
       "<style scoped>\n",
       "    .dataframe tbody tr th:only-of-type {\n",
       "        vertical-align: middle;\n",
       "    }\n",
       "\n",
       "    .dataframe tbody tr th {\n",
       "        vertical-align: top;\n",
       "    }\n",
       "\n",
       "    .dataframe thead th {\n",
       "        text-align: right;\n",
       "    }\n",
       "</style>\n",
       "<table border=\"1\" class=\"dataframe\">\n",
       "  <thead>\n",
       "    <tr style=\"text-align: right;\">\n",
       "      <th></th>\n",
       "      <th>Closed PnL</th>\n",
       "      <th>Fee</th>\n",
       "      <th>Size USD</th>\n",
       "      <th>Execution Price</th>\n",
       "    </tr>\n",
       "    <tr>\n",
       "      <th>classification</th>\n",
       "      <th></th>\n",
       "      <th></th>\n",
       "      <th></th>\n",
       "      <th></th>\n",
       "    </tr>\n",
       "  </thead>\n",
       "  <tbody>\n",
       "    <tr>\n",
       "      <th>Extreme Fear</th>\n",
       "      <td>34.537862</td>\n",
       "      <td>1.116291</td>\n",
       "      <td>5349.731843</td>\n",
       "      <td>7054.795108</td>\n",
       "    </tr>\n",
       "    <tr>\n",
       "      <th>Extreme Greed</th>\n",
       "      <td>67.892861</td>\n",
       "      <td>0.675902</td>\n",
       "      <td>3112.251565</td>\n",
       "      <td>6082.195865</td>\n",
       "    </tr>\n",
       "    <tr>\n",
       "      <th>Fear</th>\n",
       "      <td>54.290400</td>\n",
       "      <td>1.495172</td>\n",
       "      <td>7816.109931</td>\n",
       "      <td>14152.620222</td>\n",
       "    </tr>\n",
       "    <tr>\n",
       "      <th>Greed</th>\n",
       "      <td>42.743559</td>\n",
       "      <td>1.254372</td>\n",
       "      <td>5736.884375</td>\n",
       "      <td>13411.276344</td>\n",
       "    </tr>\n",
       "    <tr>\n",
       "      <th>Neutral</th>\n",
       "      <td>34.307718</td>\n",
       "      <td>1.044798</td>\n",
       "      <td>4782.732661</td>\n",
       "      <td>12393.692779</td>\n",
       "    </tr>\n",
       "  </tbody>\n",
       "</table>\n",
       "</div>"
      ],
      "text/plain": [
       "                Closed PnL       Fee     Size USD  Execution Price\n",
       "classification                                                    \n",
       "Extreme Fear     34.537862  1.116291  5349.731843      7054.795108\n",
       "Extreme Greed    67.892861  0.675902  3112.251565      6082.195865\n",
       "Fear             54.290400  1.495172  7816.109931     14152.620222\n",
       "Greed            42.743559  1.254372  5736.884375     13411.276344\n",
       "Neutral          34.307718  1.044798  4782.732661     12393.692779"
      ]
     },
     "execution_count": 20,
     "metadata": {},
     "output_type": "execute_result"
    }
   ],
   "source": [
    "merge_df.groupby('classification')[['Closed PnL','Fee','Size USD','Execution Price']].mean()"
   ]
  },
  {
   "cell_type": "code",
   "execution_count": 21,
   "id": "0d4a653d",
   "metadata": {},
   "outputs": [
    {
     "data": {
      "text/plain": [
       "<Axes: xlabel='classification'>"
      ]
     },
     "execution_count": 21,
     "metadata": {},
     "output_type": "execute_result"
    },
    {
     "data": {
      "image/png": "[encoded data removed]",
      "text/plain": [
       "<Figure size 640x480 with 1 Axes>"
      ]
     },
     "metadata": {},
     "output_type": "display_data"
    }
   ],
   "source": [
    "merge_df.groupby('classification')[['Closed PnL','Fee','Size USD','Execution Price']].mean().plot(logy=True)"
   ]
  },
  {
   "cell_type": "markdown",
   "id": "d15c7355",
   "metadata": {},
   "source": [
    "Extreme Greed = High Profit, Low Cost, Low Volume → Traders may be more precise or cautious, taking smaller but more profitable trades.\n",
    "\n",
    "Fear = High Volume, High Fee, High Price → Possibly panic-driven trading with larger positions and higher costs.\n",
    "\n",
    "Extreme Fear = Lowest Profit → Riskier trades with lower returns, possibly due to uncertainty or volatility.\n",
    "\n",
    "Neutral sentiment = Lowest engagement → Traders may be less active or less confident, leading to smaller trades and lower PnL."
   ]
  },
  {
   "cell_type": "code",
   "execution_count": 22,
   "id": "7c547fee",
   "metadata": {},
   "outputs": [
    {
     "data": {
      "image/png": "[encoded data removed]",
      "text/plain": [
       "<Figure size 640x480 with 1 Axes>"
      ]
     },
     "metadata": {},
     "output_type": "display_data"
    },
    {
     "data": {
      "text/plain": [
       "<Figure size 640x480 with 0 Axes>"
      ]
     },
     "metadata": {},
     "output_type": "display_data"
    }
   ],
   "source": [
    "sns.barplot(data=merge_df, x='classification', y='Closed PnL',\n",
    "            estimator='mean', \n",
    "            order=['Extreme Fear', 'Fear', 'Neutral', 'Greed', 'Extreme Greed'\n",
    "])\n",
    "plt.title('Average Closed PnL by Market Sentiment')\n",
    "plt.xticks(rotation=45)\n",
    "plt.tight_layout()\n",
    "plt.savefig('outputs/pnl_vs_sentiment.png', bbox_inches='tight')\n",
    "plt.show()"
   ]
  },
  {
   "cell_type": "code",
   "execution_count": 23,
   "id": "dbe4b4ca",
   "metadata": {},
   "outputs": [
    {
     "data": {
      "image/png": "[encoded data removed]",
      "text/plain": [
       "<Figure size 1000x600 with 1 Axes>"
      ]
     },
     "metadata": {},
     "output_type": "display_data"
    },
    {
     "data": {
      "text/plain": [
       "<Figure size 640x480 with 0 Axes>"
      ]
     },
     "metadata": {},
     "output_type": "display_data"
    }
   ],
   "source": [
    "plt.figure(figsize=(10,6))\n",
    "sns.barplot(merge_df,\n",
    "            x='classification',\n",
    "            y='Size USD',\n",
    "            estimator='mean',\n",
    "            order=['Extreme Fear', 'Fear','Neutral','Greed','Extreme Greed'],\n",
    "            palette='viridis'\n",
    "           )\n",
    "plt.title('Average Trade Volume Size USD by Sentiment')\n",
    "plt.ylabel('Size USD')\n",
    "plt.xlabel('Sentiment Classification')\n",
    "plt.xticks(rotation=45)\n",
    "plt.tight_layout()\n",
    "plt.savefig('outputs/Volume_vs_sentiment.png', bbox_inches='tight')\n",
    "plt.show()"
   ]
  },
  {
   "cell_type": "markdown",
   "id": "3d619672",
   "metadata": {},
   "source": [
    "Fear-> Highest-Traders may be reacting emotionally—taking larger positions, possibly driven by panic or opportunity.\n",
    "\n",
    "Greed-> Second Highest-Confident but not reckless—traders are active, but more measured than during Fear.\n",
    "\n",
    "Extreme Fear-> Moderate-Uncertainty may cause hesitation—some traders pull back, others dive in cautiously.\n",
    "\n",
    "Neutral->  Lower-Market indecision—less conviction, fewer big moves.\n",
    "\n",
    "Extreme Greed->  Lowest-Surprisingly conservative—traders may be locking in profits or avoiding overexposure."
   ]
  },
  {
   "cell_type": "code",
   "execution_count": 24,
   "id": "f35231be",
   "metadata": {},
   "outputs": [
    {
     "data": {
      "image/png": "[encoded data removed]",
      "text/plain": [
       "<Figure size 1000x600 with 1 Axes>"
      ]
     },
     "metadata": {},
     "output_type": "display_data"
    },
    {
     "data": {
      "text/plain": [
       "<Figure size 640x480 with 0 Axes>"
      ]
     },
     "metadata": {},
     "output_type": "display_data"
    }
   ],
   "source": [
    "plt.figure(figsize=(10,6))\n",
    "sns.barplot(merge_df,\n",
    "            x= 'classification',\n",
    "            y='Fee',\n",
    "            estimator='mean',\n",
    "            order=['Extreme Fear', 'Fear','Neutral','Greed','Extreme Greed'],\n",
    "            palette='viridis'\n",
    "           )\n",
    "plt.title('Average Trading Fees by classification Sentiment')\n",
    "plt.xlabel('Sentiment')\n",
    "plt.ylabel('Fee')\n",
    "plt.xticks(rotation=45)\n",
    "plt.tight_layout()\n",
    "plt.savefig('outputs/Fee_vs_sentiment.png', bbox_inches='tight')\n",
    "plt.show()\n"
   ]
  },
  {
   "cell_type": "markdown",
   "id": "5963b8e2",
   "metadata": {},
   "source": [
    "\n",
    "Fear-> Highest-Traders may be taking larger or more frequent trades, incurring higher costs—possibly driven by urgency or volatility.\n",
    "\n",
    "Greed->High-Active trading, but slightly more controlled than Fear.\n",
    "\n",
    "Extreme Fear->Moderate-Some hesitation—traders may be cautious, leading to fewer or smaller trades.\n",
    "\n",
    "Neutral->Low-Less engagement, lower costs.\n",
    "\n",
    "Extreme Greed->Lowest-Strategic trading—fewer, more precise trades with minimal fees."
   ]
  },
  {
   "cell_type": "markdown",
   "id": "aa79f9ce",
   "metadata": {},
   "source": [
    "###### Fear drives volume and cost, but not necessarily the highest profit.\n",
    "\n",
    "######  Extreme Greed is the most efficient—low volume, low fee, high profit.\n",
    "\n",
    "######  Neutral sentiment leads to minimal activity, which aligns with lower fees and volume.\n",
    "\n",
    "######  This contrast between cost and outcome is powerful. It shows that trading more doesn’t mean trading better—and that sentiment can influence not just how much traders spend, but how wisely they spend."
   ]
  },
  {
   "cell_type": "code",
   "execution_count": 25,
   "id": "d2b080f2",
   "metadata": {},
   "outputs": [
    {
     "data": {
      "text/html": [
       "<div>\n",
       "<style scoped>\n",
       "    .dataframe tbody tr th:only-of-type {\n",
       "        vertical-align: middle;\n",
       "    }\n",
       "\n",
       "    .dataframe tbody tr th {\n",
       "        vertical-align: top;\n",
       "    }\n",
       "\n",
       "    .dataframe thead th {\n",
       "        text-align: right;\n",
       "    }\n",
       "</style>\n",
       "<table border=\"1\" class=\"dataframe\">\n",
       "  <thead>\n",
       "    <tr style=\"text-align: right;\">\n",
       "      <th>Side</th>\n",
       "      <th>BUY</th>\n",
       "      <th>SELL</th>\n",
       "    </tr>\n",
       "    <tr>\n",
       "      <th>classification</th>\n",
       "      <th></th>\n",
       "      <th></th>\n",
       "    </tr>\n",
       "  </thead>\n",
       "  <tbody>\n",
       "    <tr>\n",
       "      <th>Extreme Fear</th>\n",
       "      <td>0.510981</td>\n",
       "      <td>0.489019</td>\n",
       "    </tr>\n",
       "    <tr>\n",
       "      <th>Extreme Greed</th>\n",
       "      <td>0.448590</td>\n",
       "      <td>0.551410</td>\n",
       "    </tr>\n",
       "    <tr>\n",
       "      <th>Fear</th>\n",
       "      <td>0.489513</td>\n",
       "      <td>0.510487</td>\n",
       "    </tr>\n",
       "    <tr>\n",
       "      <th>Greed</th>\n",
       "      <td>0.488559</td>\n",
       "      <td>0.511441</td>\n",
       "    </tr>\n",
       "    <tr>\n",
       "      <th>Neutral</th>\n",
       "      <td>0.503343</td>\n",
       "      <td>0.496657</td>\n",
       "    </tr>\n",
       "  </tbody>\n",
       "</table>\n",
       "</div>"
      ],
      "text/plain": [
       "Side                 BUY      SELL\n",
       "classification                    \n",
       "Extreme Fear    0.510981  0.489019\n",
       "Extreme Greed   0.448590  0.551410\n",
       "Fear            0.489513  0.510487\n",
       "Greed           0.488559  0.511441\n",
       "Neutral         0.503343  0.496657"
      ]
     },
     "execution_count": 25,
     "metadata": {},
     "output_type": "execute_result"
    }
   ],
   "source": [
    "merge_df.groupby('classification')['Side'].value_counts(normalize=True).unstack()\n"
   ]
  },
  {
   "cell_type": "markdown",
   "id": "c028bc3e",
   "metadata": {},
   "source": [
    "-->Extreme Fear 51.1% buy\t48.9% sell\tSlightly more buying—traders may be betting on a rebound or bottoming out.\n",
    "\n",
    "-->Extreme Greed 44.9%buy  55.1%sell\tMore selling—traders might be locking in profits or anticipating a reversal.\n",
    "\n",
    "-->Fear\t48.9%buy\t51.0%sell\tSlight tilt toward selling—uncertainty may drive cautious exits.\n",
    "\n",
    "-->Greed\t48.8%buy\t51.1%sell\tSimilar to Fear—traders may be riding momentum but still taking profits.\n",
    "\n",
    "-->Neutral 50.3%buy\t49.7%sell\tBalanced behavior—no strong bias, reflecting indecision."
   ]
  },
  {
   "cell_type": "markdown",
   "id": "e7ffe306",
   "metadata": {},
   "source": [
    "Extreme Fear triggers contrarian optimism—more traders are buying, possibly expecting a bounce.\n",
    "\n",
    "Extreme Greed triggers caution—more selling, likely profit-taking before a potential correction.\n",
    "\n",
    "Fear and Greed show similar sell bias, but not extreme—traders may be hedging or rotating positions.\n",
    "\n",
    "Neutral sentiment leads to balanced behavior, which aligns with low volume and low engagement.\n",
    "\n",
    "This behavioral nuance is powerful. It shows that sentiment doesn’t just affect how much traders trade—it affects how they position themselves."
   ]
  },
  {
   "cell_type": "code",
   "execution_count": 26,
   "id": "3d41b373",
   "metadata": {},
   "outputs": [],
   "source": [
    "numeric_cols = ['Closed PnL', 'Fee', 'Size USD', 'Execution Price']\n",
    "corr_matrix = merge_df[numeric_cols].corr()\n"
   ]
  },
  {
   "cell_type": "code",
   "execution_count": 27,
   "id": "d1e62e9f",
   "metadata": {},
   "outputs": [
    {
     "data": {
      "text/html": [
       "<div>\n",
       "<style scoped>\n",
       "    .dataframe tbody tr th:only-of-type {\n",
       "        vertical-align: middle;\n",
       "    }\n",
       "\n",
       "    .dataframe tbody tr th {\n",
       "        vertical-align: top;\n",
       "    }\n",
       "\n",
       "    .dataframe thead th {\n",
       "        text-align: right;\n",
       "    }\n",
       "</style>\n",
       "<table border=\"1\" class=\"dataframe\">\n",
       "  <thead>\n",
       "    <tr style=\"text-align: right;\">\n",
       "      <th></th>\n",
       "      <th>Closed PnL</th>\n",
       "      <th>Fee</th>\n",
       "      <th>Size USD</th>\n",
       "      <th>Execution Price</th>\n",
       "    </tr>\n",
       "  </thead>\n",
       "  <tbody>\n",
       "    <tr>\n",
       "      <th>Closed PnL</th>\n",
       "      <td>1.000000</td>\n",
       "      <td>0.084094</td>\n",
       "      <td>0.123645</td>\n",
       "      <td>-0.006429</td>\n",
       "    </tr>\n",
       "    <tr>\n",
       "      <th>Fee</th>\n",
       "      <td>0.084094</td>\n",
       "      <td>1.000000</td>\n",
       "      <td>0.745940</td>\n",
       "      <td>0.225266</td>\n",
       "    </tr>\n",
       "    <tr>\n",
       "      <th>Size USD</th>\n",
       "      <td>0.123645</td>\n",
       "      <td>0.745940</td>\n",
       "      <td>1.000000</td>\n",
       "      <td>0.189859</td>\n",
       "    </tr>\n",
       "    <tr>\n",
       "      <th>Execution Price</th>\n",
       "      <td>-0.006429</td>\n",
       "      <td>0.225266</td>\n",
       "      <td>0.189859</td>\n",
       "      <td>1.000000</td>\n",
       "    </tr>\n",
       "  </tbody>\n",
       "</table>\n",
       "</div>"
      ],
      "text/plain": [
       "                 Closed PnL       Fee  Size USD  Execution Price\n",
       "Closed PnL         1.000000  0.084094  0.123645        -0.006429\n",
       "Fee                0.084094  1.000000  0.745940         0.225266\n",
       "Size USD           0.123645  0.745940  1.000000         0.189859\n",
       "Execution Price   -0.006429  0.225266  0.189859         1.000000"
      ]
     },
     "execution_count": 27,
     "metadata": {},
     "output_type": "execute_result"
    }
   ],
   "source": [
    "corr_matrix"
   ]
  },
  {
   "cell_type": "code",
   "execution_count": 28,
   "id": "d46c97e1",
   "metadata": {},
   "outputs": [
    {
     "data": {
      "image/png": "[encoded data removed]",
      "text/plain": [
       "<Figure size 800x600 with 2 Axes>"
      ]
     },
     "metadata": {},
     "output_type": "display_data"
    },
    {
     "data": {
      "text/plain": [
       "<Figure size 640x480 with 0 Axes>"
      ]
     },
     "metadata": {},
     "output_type": "display_data"
    }
   ],
   "source": [
    "plt.figure(figsize=(8, 6))\n",
    "sns.heatmap(corr_matrix, annot=True, cmap='coolwarm', fmt=\".2f\", linewidths=0.5)\n",
    "plt.title('Correlation Matrix of Trading Metrics')\n",
    "plt.tight_layout()\n",
    "plt.savefig('outputs/correlation_matrix.png', bbox_inches='tight')\n",
    "plt.show()"
   ]
  },
  {
   "cell_type": "code",
   "execution_count": null,
   "id": "acab5a78",
   "metadata": {},
   "outputs": [],
   "source": []
  },
  {
   "cell_type": "code",
   "execution_count": null,
   "id": "91d2b1e7",
   "metadata": {},
   "outputs": [],
   "source": []
  },
  {
   "cell_type": "code",
   "execution_count": null,
   "id": "9301f90f",
   "metadata": {},
   "outputs": [],
   "source": []
  }
 ],
 "metadata": {
  "kernelspec": {
   "display_name": "Python 3 (ipykernel)",
   "language": "python",
   "name": "python3"
  },
  "language_info": {
   "codemirror_mode": {
    "name": "ipython",
    "version": 3
   },
   "file_extension": ".py",
   "mimetype": "text/x-python",
   "name": "python",
   "nbconvert_exporter": "python",
   "pygments_lexer": "ipython3",
   "version": "3.11.5"
  }
 },
 "nbformat": 4,
 "nbformat_minor": 5
}
